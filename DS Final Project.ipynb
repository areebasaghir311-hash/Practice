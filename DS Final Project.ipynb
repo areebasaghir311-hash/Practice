{
  "metadata": {
    "kernelspec": {
      "name": "python",
      "display_name": "Python (Pyodide)",
      "language": "python"
    },
    "language_info": {
      "codemirror_mode": {
        "name": "python",
        "version": 3
      },
      "file_extension": ".py",
      "mimetype": "text/x-python",
      "name": "python",
      "nbconvert_exporter": "python",
      "pygments_lexer": "ipython3",
      "version": "3.8"
    }
  },
  "nbformat_minor": 4,
  "nbformat": 4,
  "cells": [
    {
      "cell_type": "markdown",
      "source": " Data Science Final Project Notebook",
      "metadata": {}
    },
    {
      "cell_type": "markdown",
      "source": "This notebook provides a summary of key concepts in data science, including languages, libraries, and tools. It also demonstrates basic arithmetic operations and unit conversion.",
      "metadata": {}
    },
    {
      "cell_type": "markdown",
      "source": "Some of the most popular languages for data science include:\nPython\nR\nSQL\nJulia",
      "metadata": {}
    },
    {
      "cell_type": "markdown",
      "source": "Common data science libraries include:\nPandas\nNumPy\nScikit-learn\nMatplotlib\nSeaborn\nTensorFlow",
      "metadata": {}
    },
    {
      "cell_type": "markdown",
      "source": "Languages                 Python, R, SQL, Julia\nLibraries                 Pandas, NumPy, Scikit-learn, TensorFlow\nDevelopment Environments  JupyterLite, Jupyter Notebook, RStudio, Apache Spark",
      "metadata": {}
    },
    {
      "cell_type": "markdown",
      "source": "The following code cell will demonstrate a simple arithmetic expression, showing how to multiply and add integers in a single line.",
      "metadata": {}
    },
    {
      "cell_type": "code",
      "source": "# This is a code cell to multiply and add numbers.\nresult = (3 * 2) + 9\nprint(result)",
      "metadata": {
        "trusted": true
      },
      "outputs": [
        {
          "name": "stdout",
          "text": "15\n",
          "output_type": "stream"
        }
      ],
      "execution_count": 5
    },
    {
      "cell_type": "code",
      "source": "# This code cell converts minutes to hours.\nminutes = 640\nhours = minutes / 60\nprint(hours)",
      "metadata": {
        "trusted": true
      },
      "outputs": [
        {
          "name": "stdout",
          "text": "10.666666666666666\n",
          "output_type": "stream"
        }
      ],
      "execution_count": 4
    },
    {
      "cell_type": "markdown",
      "source": "The objectives of this notebook are to:\n1. List key data science languages and libraries.\n2. Create a table of data science tools.\n3. Demonstrate basic arithmetic operations in a code cell.\n4. Convert minutes to hours using a code cell.\n5. Showcase the ability to use markdown and code cells effectively.",
      "metadata": {}
    },
    {
      "cell_type": "markdown",
      "source": "Author: Areeba Saghir",
      "metadata": {}
    }
  ]
}